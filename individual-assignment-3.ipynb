{
 "cells": [
  {
   "cell_type": "markdown",
   "metadata": {},
   "source": [
    "# Individual Assignment 3"
   ]
  },
  {
   "cell_type": "markdown",
   "metadata": {},
   "source": [
    "Name: Last name, First name, Ryerson email address"
   ]
  },
  {
   "cell_type": "markdown",
   "metadata": {},
   "source": [
    "This assignment extends the in-class exercise on multiple linear regression analysis. You are allowed to use all resources you can find, including lecture slides, in-class examples, previous group assignments, LinkedIn training courses, and the internet.\n",
    "\n",
    "You are **not allowed** to discuss this assignment with anyone other than the course instructor. This assignment is required to be your individual work. \n",
    "\n",
    "Completed assignment should be merged to the main branch in your repository."
   ]
  },
  {
   "cell_type": "markdown",
   "metadata": {},
   "source": [
    "***\n",
    "## Data Description\n",
    "\n",
    "The data set is contained in a comma-separated value (csv) file named ```CDN_hprice.csv``` with column headers. \n",
    "\n",
    "The data is a set of quarterly observations on a housing price index and other relevant variables in Canada for 1976 through 2019.\n",
    "\n",
    "This data set is obtained from [Federal Reserve Bank of Dallas's International House Price Database](https://www.dallasfed.org/institute/houseprice).\n",
    "\n",
    "Description of the data is as follow:\n",
    "\n",
    "| Variable name | Variable description |\n",
    "| -- | ----------- |\n",
    "| Year      | Year |\n",
    "| Quarter   | Quarter |\n",
    "| RHPI      | House Price Index (real) |\n",
    "| RPDI      | Personal disposable income (real) |\n",
    "| logRHPI   | log(RHPI)   |\n",
    "| logRPDI   | log(RPDI)   |\n",
    "| UE        | Unemployment rate (in percentage points) |\n",
    "| CPI       | Consumer Price Index |\n",
    "| TB10_rt   | 10-year treasury bond rate (nominal) |\n",
    "| RTB10_rt  | 10-year Treasury Bond rate (real) |\n"
   ]
  },
  {
   "cell_type": "markdown",
   "metadata": {},
   "source": [
    "***\n",
    "## Load the required modules"
   ]
  },
  {
   "cell_type": "code",
   "execution_count": null,
   "metadata": {},
   "outputs": [],
   "source": [
    "import numpy as np\n",
    "import pandas as pd\n",
    "import statsmodels\n",
    "import statsmodels.api as sm\n",
    "import statsmodels.formula.api as smf\n",
    "import matplotlib.pyplot"
   ]
  },
  {
   "cell_type": "markdown",
   "metadata": {},
   "source": [
    "***\n",
    "## Import the data set\n",
    "\n",
    "#### Load the data set into Python"
   ]
  },
  {
   "cell_type": "code",
   "execution_count": null,
   "metadata": {},
   "outputs": [],
   "source": []
  },
  {
   "cell_type": "markdown",
   "metadata": {},
   "source": [
    "***\n",
    "## Question 1\n",
    "\n",
    "#### 1.1 Sort the data in ascending order by year and quarter"
   ]
  },
  {
   "cell_type": "code",
   "execution_count": null,
   "metadata": {},
   "outputs": [],
   "source": []
  },
  {
   "cell_type": "markdown",
   "metadata": {},
   "source": [
    "#### 1.2 Generate time index\n",
    "\n",
    "Create new variable ```t``` such that $t=0$ in the first period. \n",
    "\n",
    "Note that we have repeated year and quarters. You can create the the required index by:\n",
    "1. Sorting the observations in ascending order, as you are asked to do in (1.1)\n",
    "2. Add a new column using the ```df.index``` method, where ```df``` is the name of the pandas dataframe"
   ]
  },
  {
   "cell_type": "code",
   "execution_count": null,
   "metadata": {},
   "outputs": [],
   "source": []
  },
  {
   "cell_type": "markdown",
   "metadata": {},
   "source": [
    "#### 1.3 Generate lag variable\n",
    "\n",
    "Here we create lag variables with a lag of **4** period. That is, in quarterly frequency, the lag variable is in the *same* quarter but *different* year.\n",
    "\n",
    "Create a new column in the date set named ```logRHPI_4```, such that $\\text{logRHPI}\\_4 = \\log(\\textit{RHPI}_{t-4})$ "
   ]
  },
  {
   "cell_type": "code",
   "execution_count": null,
   "metadata": {},
   "outputs": [],
   "source": []
  },
  {
   "cell_type": "markdown",
   "metadata": {},
   "source": [
    "Create a new column in the date set named ```logRPDI_4```, such that $\\text{logRPDI}\\_4 = \\log(\\textit{RPDI}_{t-4})$ "
   ]
  },
  {
   "cell_type": "code",
   "execution_count": null,
   "metadata": {},
   "outputs": [],
   "source": []
  },
  {
   "cell_type": "markdown",
   "metadata": {},
   "source": [
    "#### 1.4 Generate \"*first-differencing*\" variables\n",
    "\n",
    "It is also known as the year-over-year difference, because we take the difference between now and 4 quarters (a year) ago. \n",
    "\n",
    "E.g. we are calulating the change from 2018 Q1 to 2019 Q1. \n",
    "\n",
    "Create a new column named ```gRHPI```, such that $\\textit{gRHPI}_t = \\Delta \\log(\\textit{RHPI}_t) = \\log(\\textit{RHPI}_t) - \\log(\\textit{RHPI}_{t-4})$"
   ]
  },
  {
   "cell_type": "code",
   "execution_count": null,
   "metadata": {},
   "outputs": [],
   "source": []
  },
  {
   "cell_type": "markdown",
   "metadata": {},
   "source": [
    "***\n",
    "## Question 2\n",
    "\n",
    "Consider the following model for house price growth:\n",
    "$$\\textit{gRHPI}_t = \\beta_0 + \\beta_1 t + \\delta_1 Q2 + \\delta_2 Q3 + \\delta_3 Q4 + u_t$$\n",
    "\n",
    "- $t = 0, 1, 2, \\ldots$ is the time index you created in (1.2)\n",
    "- Q2, Q3, Q4 are dummy variables that equals to 1 in the second, third, and fourth quarter, respectively. Otherwise, they are equal to 0. "
   ]
  },
  {
   "cell_type": "markdown",
   "metadata": {},
   "source": [
    "#### 2.1 Estimate the model"
   ]
  },
  {
   "cell_type": "code",
   "execution_count": null,
   "metadata": {},
   "outputs": [],
   "source": []
  },
  {
   "cell_type": "markdown",
   "metadata": {},
   "source": [
    "#### 2.2 Get the estimation results"
   ]
  },
  {
   "cell_type": "code",
   "execution_count": null,
   "metadata": {},
   "outputs": [],
   "source": []
  },
  {
   "cell_type": "markdown",
   "metadata": {},
   "source": [
    "#### 2.3 What is the benchmark (base period) in this model?"
   ]
  },
  {
   "cell_type": "markdown",
   "metadata": {},
   "source": []
  },
  {
   "cell_type": "markdown",
   "metadata": {},
   "source": [
    "#### 2.4 At 5% significance level, is there a statistically significant time trend?"
   ]
  },
  {
   "cell_type": "markdown",
   "metadata": {},
   "source": []
  },
  {
   "cell_type": "markdown",
   "metadata": {},
   "source": [
    "#### 2.5 At 5% significance level, would you conclude that house price growth exhibits seasonality at quarterly frequency?"
   ]
  },
  {
   "cell_type": "markdown",
   "metadata": {},
   "source": []
  },
  {
   "cell_type": "markdown",
   "metadata": {},
   "source": [
    "***\n",
    "## Question 3\n",
    "\n",
    "Consider a house price model with AR(1) specification:\n",
    "$$\\textit{gRHPI}_t = \\beta_0 + \\beta_1 t + \\beta_2 \\textit{gRHPI}_{t-1} + \\delta_1 Q2 + \\delta_2 Q3 + \\delta_3 Q4 + u_t$$\n",
    "\n",
    "#### 3.1 Create a new column in the date set named ```gRHPI_1```, such that $\\textit{gRHPI}\\_1 = \\textit{gRHPI}_{t-1}$ "
   ]
  },
  {
   "cell_type": "code",
   "execution_count": null,
   "metadata": {},
   "outputs": [],
   "source": []
  },
  {
   "cell_type": "markdown",
   "metadata": {},
   "source": [
    "#### 3.2 Estimate the model"
   ]
  },
  {
   "cell_type": "code",
   "execution_count": null,
   "metadata": {},
   "outputs": [],
   "source": []
  },
  {
   "cell_type": "markdown",
   "metadata": {},
   "source": [
    "#### 3.3 Get the estimation results"
   ]
  },
  {
   "cell_type": "code",
   "execution_count": null,
   "metadata": {},
   "outputs": [],
   "source": []
  },
  {
   "cell_type": "markdown",
   "metadata": {},
   "source": [
    "#### 3.4 At 5% significance level, what would you conclude about $\\beta_2$?"
   ]
  },
  {
   "cell_type": "markdown",
   "metadata": {},
   "source": []
  },
  {
   "cell_type": "markdown",
   "metadata": {},
   "source": [
    "#### 3.5 Does the AR(1) process have weak dependence?"
   ]
  },
  {
   "cell_type": "markdown",
   "metadata": {},
   "source": []
  },
  {
   "cell_type": "markdown",
   "metadata": {},
   "source": [
    "#### 3.6 Is the time trend still significant? Why or why not?"
   ]
  },
  {
   "cell_type": "markdown",
   "metadata": {},
   "source": []
  },
  {
   "cell_type": "markdown",
   "metadata": {},
   "source": [
    "***\n",
    "## Question 4\n",
    "\n",
    "Consider a house price model with AR(1) specification and other exogenous regressors:\n",
    "$$\\textit{gRHPI}_t = \\beta_0 + \\beta_1 t + \\beta_2 \\textit{gRHPI}_{t-1} + \\beta_3 \\text{UE}_t + \\delta_1 Q2 + \\delta_2 Q3 + \\delta_3 Q4 + u_t$$"
   ]
  },
  {
   "cell_type": "markdown",
   "metadata": {},
   "source": [
    "#### 4.1 Estimate the model"
   ]
  },
  {
   "cell_type": "code",
   "execution_count": null,
   "metadata": {},
   "outputs": [],
   "source": []
  },
  {
   "cell_type": "markdown",
   "metadata": {},
   "source": [
    "#### 4.2 Get the estimation results"
   ]
  },
  {
   "cell_type": "code",
   "execution_count": null,
   "metadata": {},
   "outputs": [],
   "source": []
  },
  {
   "cell_type": "markdown",
   "metadata": {},
   "source": [
    "#### 4.3 How would you interpret $\\beta_3$? (Be careful on how unemployment rate is reported in the data set)"
   ]
  },
  {
   "cell_type": "markdown",
   "metadata": {},
   "source": []
  },
  {
   "cell_type": "markdown",
   "metadata": {},
   "source": [
    "#### 4.4 At 5% significance level, what would you conclude about $\\beta_3$?"
   ]
  },
  {
   "cell_type": "markdown",
   "metadata": {},
   "source": []
  },
  {
   "cell_type": "markdown",
   "metadata": {},
   "source": [
    "#### 4.5 Explain why the AR(1) dependence ($\\beta_2$) is weakened, when compare with your results in Question 3."
   ]
  },
  {
   "cell_type": "markdown",
   "metadata": {},
   "source": []
  },
  {
   "cell_type": "markdown",
   "metadata": {},
   "source": [
    "***\n",
    "## References\n",
    "- Jeffrey M. Wooldridge (2012). \"Introductory Econometrics: A Modern Approach, 5e\" Chapter 11.\n",
    "    \n",
    "- Seabold, Skipper, and Josef Perktold (2010). \"[statsmodels: Econometric and statistical modeling with python](https://www.statsmodels.org/stable/examples/notebooks/generated/ols.html).\" Proceedings of the 9th Python in Science Conference."
   ]
  }
 ],
 "metadata": {
  "kernelspec": {
   "display_name": "Python 3",
   "language": "python",
   "name": "python3"
  },
  "language_info": {
   "codemirror_mode": {
    "name": "ipython",
    "version": 3
   },
   "file_extension": ".py",
   "mimetype": "text/x-python",
   "name": "python",
   "nbconvert_exporter": "python",
   "pygments_lexer": "ipython3",
   "version": "3.8.5"
  }
 },
 "nbformat": 4,
 "nbformat_minor": 4
}
